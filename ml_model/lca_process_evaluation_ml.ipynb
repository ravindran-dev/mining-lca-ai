{
 "cells": [
  {
   "cell_type": "markdown",
   "id": "d35fa91b",
   "metadata": {},
   "source": [
    "# 1. Import Libraries\n",
    "We load all the Python packages needed for:\n",
    "- Data handling (`pandas`, `numpy`)\n",
    "- Machine learning (`sklearn`)\n",
    "- Utility functions (`itertools`)\n"
   ]
  },
  {
   "cell_type": "code",
   "execution_count": 1,
   "id": "b122ce56",
   "metadata": {},
   "outputs": [],
   "source": [
    "# Step 1: Import libraries\n",
    "import numpy as np\n",
    "import pandas as pd\n",
    "from sklearn.model_selection import train_test_split\n",
    "from sklearn.preprocessing import OneHotEncoder, StandardScaler\n",
    "from sklearn.impute import SimpleImputer\n",
    "from sklearn.pipeline import Pipeline\n",
    "from sklearn.compose import ColumnTransformer\n",
    "from sklearn.ensemble import RandomForestRegressor, RandomForestClassifier\n",
    "from sklearn.metrics import r2_score, classification_report\n",
    "import itertools\n",
    "import shap\n",
    "from sklearn.utils import resample\n",
    "from statsmodels.tsa.holtwinters import ExponentialSmoothing\n",
    "import joblib\n"
   ]
  },
  {
   "cell_type": "markdown",
   "id": "bc0b0747",
   "metadata": {},
   "source": [
    "# 2. Load Dataset\n",
    "We import the dataset containing process-level information such as:\n",
    "- Energy mix (coal %, hydro %)\n",
    "- Transport mode and distance\n",
    "- End-of-life treatment\n",
    "- Recycled content percentage\n",
    "This is our starting point for building the ML model.\n"
   ]
  },
  {
   "cell_type": "code",
   "execution_count": 2,
   "id": "d349d684",
   "metadata": {},
   "outputs": [
    {
     "name": "stdout",
     "output_type": "stream",
     "text": [
      "Dataset shape: (5000, 20)\n"
     ]
    },
    {
     "data": {
      "application/vnd.microsoft.datawrangler.viewer.v0+json": {
       "columns": [
        {
         "name": "index",
         "rawType": "int64",
         "type": "integer"
        },
        {
         "name": "project_name",
         "rawType": "object",
         "type": "string"
        },
        {
         "name": "functional_unit",
         "rawType": "object",
         "type": "string"
        },
        {
         "name": "metal",
         "rawType": "object",
         "type": "string"
        },
        {
         "name": "production_route",
         "rawType": "object",
         "type": "string"
        },
        {
         "name": "recycled_content_pct",
         "rawType": "int64",
         "type": "integer"
        },
        {
         "name": "electricity_kWh_per_FU",
         "rawType": "int64",
         "type": "integer"
        },
        {
         "name": "electricity_grid_region",
         "rawType": "object",
         "type": "string"
        },
        {
         "name": "fuel_MJ_per_FU",
         "rawType": "int64",
         "type": "integer"
        },
        {
         "name": "fuel_type",
         "rawType": "object",
         "type": "string"
        },
        {
         "name": "transport_mode",
         "rawType": "object",
         "type": "string"
        },
        {
         "name": "transport_distance_km",
         "rawType": "int64",
         "type": "integer"
        },
        {
         "name": "process_yield_pct",
         "rawType": "int64",
         "type": "integer"
        },
        {
         "name": "end_of_life_recycle_rate_pct",
         "rawType": "int64",
         "type": "integer"
        },
        {
         "name": "product_lifetime_years",
         "rawType": "int64",
         "type": "integer"
        },
        {
         "name": "region",
         "rawType": "object",
         "type": "string"
        },
        {
         "name": "data_confidence",
         "rawType": "object",
         "type": "string"
        },
        {
         "name": "co2",
         "rawType": "float64",
         "type": "float"
        },
        {
         "name": "energy",
         "rawType": "float64",
         "type": "float"
        },
        {
         "name": "water",
         "rawType": "float64",
         "type": "float"
        },
        {
         "name": "is_circular",
         "rawType": "int64",
         "type": "integer"
        }
       ],
       "ref": "e147e95b-0797-438d-a417-a8bc281efae0",
       "rows": [
        [
         "0",
         "Al-proj-0001",
         "1 tonne",
         "Aluminium",
         "mix",
         "30",
         "2078",
         "US-Grid",
         "1400",
         "coal",
         "rail",
         "780",
         "96",
         "23",
         "43",
         "China",
         "predicted",
         "139.29671415301124",
         "8878.681201589885",
         "22.071505269512777",
         "1"
        ],
        [
         "1",
         "Al-proj-0002",
         "1 tonne",
         "Aluminium",
         "mix",
         "25",
         "674",
         "IN-Grid",
         "562",
         "oil",
         "ship",
         "1245",
         "97",
         "93",
         "35",
         "India",
         "user",
         "56.501735698828824",
         "2986.132929458081",
         "31.34450053694635",
         "1"
        ],
        [
         "2",
         "Co-proj-0003",
         "1 tonne",
         "Copper",
         "mix",
         "25",
         "2192",
         "CN-Grid",
         "1595",
         "coal",
         "rail",
         "1881",
         "99",
         "82",
         "22",
         "China",
         "user",
         "160.20768853810068",
         "9477.221784136851",
         "43.12261893895486",
         "1"
        ],
        [
         "3",
         "Co-proj-0004",
         "1 tonne",
         "Copper",
         "secondary",
         "46",
         "5751",
         "IN-Grid",
         "1994",
         "biomass",
         "truck",
         "361",
         "86",
         "57",
         "6",
         "Europe",
         "extracted",
         "331.18302985640804",
         "22695.949549041496",
         "12.630418046946119",
         "1"
        ],
        [
         "4",
         "Co-proj-0005",
         "1 tonne",
         "Copper",
         "secondary",
         "45",
         "6210",
         "CN-Grid",
         "1248",
         "oil",
         "ship",
         "367",
         "99",
         "75",
         "37",
         "Europe",
         "predicted",
         "337.5458466252766",
         "23607.664145409108",
         "15.387178531461913",
         "1"
        ]
       ],
       "shape": {
        "columns": 20,
        "rows": 5
       }
      },
      "text/html": [
       "<div>\n",
       "<style scoped>\n",
       "    .dataframe tbody tr th:only-of-type {\n",
       "        vertical-align: middle;\n",
       "    }\n",
       "\n",
       "    .dataframe tbody tr th {\n",
       "        vertical-align: top;\n",
       "    }\n",
       "\n",
       "    .dataframe thead th {\n",
       "        text-align: right;\n",
       "    }\n",
       "</style>\n",
       "<table border=\"1\" class=\"dataframe\">\n",
       "  <thead>\n",
       "    <tr style=\"text-align: right;\">\n",
       "      <th></th>\n",
       "      <th>project_name</th>\n",
       "      <th>functional_unit</th>\n",
       "      <th>metal</th>\n",
       "      <th>production_route</th>\n",
       "      <th>recycled_content_pct</th>\n",
       "      <th>electricity_kWh_per_FU</th>\n",
       "      <th>electricity_grid_region</th>\n",
       "      <th>fuel_MJ_per_FU</th>\n",
       "      <th>fuel_type</th>\n",
       "      <th>transport_mode</th>\n",
       "      <th>transport_distance_km</th>\n",
       "      <th>process_yield_pct</th>\n",
       "      <th>end_of_life_recycle_rate_pct</th>\n",
       "      <th>product_lifetime_years</th>\n",
       "      <th>region</th>\n",
       "      <th>data_confidence</th>\n",
       "      <th>co2</th>\n",
       "      <th>energy</th>\n",
       "      <th>water</th>\n",
       "      <th>is_circular</th>\n",
       "    </tr>\n",
       "  </thead>\n",
       "  <tbody>\n",
       "    <tr>\n",
       "      <th>0</th>\n",
       "      <td>Al-proj-0001</td>\n",
       "      <td>1 tonne</td>\n",
       "      <td>Aluminium</td>\n",
       "      <td>mix</td>\n",
       "      <td>30</td>\n",
       "      <td>2078</td>\n",
       "      <td>US-Grid</td>\n",
       "      <td>1400</td>\n",
       "      <td>coal</td>\n",
       "      <td>rail</td>\n",
       "      <td>780</td>\n",
       "      <td>96</td>\n",
       "      <td>23</td>\n",
       "      <td>43</td>\n",
       "      <td>China</td>\n",
       "      <td>predicted</td>\n",
       "      <td>139.296714</td>\n",
       "      <td>8878.681202</td>\n",
       "      <td>22.071505</td>\n",
       "      <td>1</td>\n",
       "    </tr>\n",
       "    <tr>\n",
       "      <th>1</th>\n",
       "      <td>Al-proj-0002</td>\n",
       "      <td>1 tonne</td>\n",
       "      <td>Aluminium</td>\n",
       "      <td>mix</td>\n",
       "      <td>25</td>\n",
       "      <td>674</td>\n",
       "      <td>IN-Grid</td>\n",
       "      <td>562</td>\n",
       "      <td>oil</td>\n",
       "      <td>ship</td>\n",
       "      <td>1245</td>\n",
       "      <td>97</td>\n",
       "      <td>93</td>\n",
       "      <td>35</td>\n",
       "      <td>India</td>\n",
       "      <td>user</td>\n",
       "      <td>56.501736</td>\n",
       "      <td>2986.132929</td>\n",
       "      <td>31.344501</td>\n",
       "      <td>1</td>\n",
       "    </tr>\n",
       "    <tr>\n",
       "      <th>2</th>\n",
       "      <td>Co-proj-0003</td>\n",
       "      <td>1 tonne</td>\n",
       "      <td>Copper</td>\n",
       "      <td>mix</td>\n",
       "      <td>25</td>\n",
       "      <td>2192</td>\n",
       "      <td>CN-Grid</td>\n",
       "      <td>1595</td>\n",
       "      <td>coal</td>\n",
       "      <td>rail</td>\n",
       "      <td>1881</td>\n",
       "      <td>99</td>\n",
       "      <td>82</td>\n",
       "      <td>22</td>\n",
       "      <td>China</td>\n",
       "      <td>user</td>\n",
       "      <td>160.207689</td>\n",
       "      <td>9477.221784</td>\n",
       "      <td>43.122619</td>\n",
       "      <td>1</td>\n",
       "    </tr>\n",
       "    <tr>\n",
       "      <th>3</th>\n",
       "      <td>Co-proj-0004</td>\n",
       "      <td>1 tonne</td>\n",
       "      <td>Copper</td>\n",
       "      <td>secondary</td>\n",
       "      <td>46</td>\n",
       "      <td>5751</td>\n",
       "      <td>IN-Grid</td>\n",
       "      <td>1994</td>\n",
       "      <td>biomass</td>\n",
       "      <td>truck</td>\n",
       "      <td>361</td>\n",
       "      <td>86</td>\n",
       "      <td>57</td>\n",
       "      <td>6</td>\n",
       "      <td>Europe</td>\n",
       "      <td>extracted</td>\n",
       "      <td>331.183030</td>\n",
       "      <td>22695.949549</td>\n",
       "      <td>12.630418</td>\n",
       "      <td>1</td>\n",
       "    </tr>\n",
       "    <tr>\n",
       "      <th>4</th>\n",
       "      <td>Co-proj-0005</td>\n",
       "      <td>1 tonne</td>\n",
       "      <td>Copper</td>\n",
       "      <td>secondary</td>\n",
       "      <td>45</td>\n",
       "      <td>6210</td>\n",
       "      <td>CN-Grid</td>\n",
       "      <td>1248</td>\n",
       "      <td>oil</td>\n",
       "      <td>ship</td>\n",
       "      <td>367</td>\n",
       "      <td>99</td>\n",
       "      <td>75</td>\n",
       "      <td>37</td>\n",
       "      <td>Europe</td>\n",
       "      <td>predicted</td>\n",
       "      <td>337.545847</td>\n",
       "      <td>23607.664145</td>\n",
       "      <td>15.387179</td>\n",
       "      <td>1</td>\n",
       "    </tr>\n",
       "  </tbody>\n",
       "</table>\n",
       "</div>"
      ],
      "text/plain": [
       "   project_name functional_unit      metal production_route  \\\n",
       "0  Al-proj-0001         1 tonne  Aluminium              mix   \n",
       "1  Al-proj-0002         1 tonne  Aluminium              mix   \n",
       "2  Co-proj-0003         1 tonne     Copper              mix   \n",
       "3  Co-proj-0004         1 tonne     Copper        secondary   \n",
       "4  Co-proj-0005         1 tonne     Copper        secondary   \n",
       "\n",
       "   recycled_content_pct  electricity_kWh_per_FU electricity_grid_region  \\\n",
       "0                    30                    2078                 US-Grid   \n",
       "1                    25                     674                 IN-Grid   \n",
       "2                    25                    2192                 CN-Grid   \n",
       "3                    46                    5751                 IN-Grid   \n",
       "4                    45                    6210                 CN-Grid   \n",
       "\n",
       "   fuel_MJ_per_FU fuel_type transport_mode  transport_distance_km  \\\n",
       "0            1400      coal           rail                    780   \n",
       "1             562       oil           ship                   1245   \n",
       "2            1595      coal           rail                   1881   \n",
       "3            1994   biomass          truck                    361   \n",
       "4            1248       oil           ship                    367   \n",
       "\n",
       "   process_yield_pct  end_of_life_recycle_rate_pct  product_lifetime_years  \\\n",
       "0                 96                            23                      43   \n",
       "1                 97                            93                      35   \n",
       "2                 99                            82                      22   \n",
       "3                 86                            57                       6   \n",
       "4                 99                            75                      37   \n",
       "\n",
       "   region data_confidence         co2        energy      water  is_circular  \n",
       "0   China       predicted  139.296714   8878.681202  22.071505            1  \n",
       "1   India            user   56.501736   2986.132929  31.344501            1  \n",
       "2   China            user  160.207689   9477.221784  43.122619            1  \n",
       "3  Europe       extracted  331.183030  22695.949549  12.630418            1  \n",
       "4  Europe       predicted  337.545847  23607.664145  15.387179            1  "
      ]
     },
     "execution_count": 2,
     "metadata": {},
     "output_type": "execute_result"
    }
   ],
   "source": [
    "file_path = \"LCA_Input_Dataset_5000.csv\"\n",
    "df = pd.read_csv(file_path)\n",
    "\n",
    "np.random.seed(42)\n",
    "\n",
    "df['co2'] = 0.05*df['electricity_kWh_per_FU'] + \\\n",
    "            0.02*df['fuel_MJ_per_FU'] + \\\n",
    "            0.01*df['transport_distance_km'] - \\\n",
    "            0.03*df['recycled_content_pct'] + \\\n",
    "            np.random.normal(0,1,len(df))\n",
    "\n",
    "df['energy'] = df['electricity_kWh_per_FU']*3.6 + df['fuel_MJ_per_FU'] + \\\n",
    "               np.random.normal(0,5,len(df))\n",
    "\n",
    "df['water'] = 5 + 0.02*df['transport_distance_km'] + \\\n",
    "              0.05*df['product_lifetime_years'] + \\\n",
    "              np.random.normal(0,1,len(df))\n",
    "\n",
    "df['is_circular'] = ((df['end_of_life_recycle_rate_pct'] > 50) | \n",
    "                     (df['product_lifetime_years'] > 15)).astype(int)\n",
    "\n",
    "print(\"Dataset shape:\", df.shape)\n",
    "df.head()\n"
   ]
  },
  {
   "cell_type": "markdown",
   "id": "05122f64",
   "metadata": {},
   "source": [
    "\n",
    "\n",
    "\n",
    "\n",
    "\n",
    "\n",
    "# 3. Preprocess Data\n",
    "We set up a preprocessing pipeline to:\n",
    "- Encode categorical variables \n",
    "- Scale numerical variables \n",
    "This ensures the ML models can handle mixed data types correctly.\n"
   ]
  },
  {
   "cell_type": "code",
   "execution_count": 3,
   "id": "eb978ffe",
   "metadata": {},
   "outputs": [
    {
     "name": "stdout",
     "output_type": "stream",
     "text": [
      "Numeric features: ['recycled_content_pct', 'electricity_kWh_per_FU', 'fuel_MJ_per_FU', 'transport_distance_km', 'process_yield_pct', 'end_of_life_recycle_rate_pct', 'product_lifetime_years']\n",
      "Categorical features: ['project_name', 'functional_unit', 'metal', 'production_route', 'electricity_grid_region', 'fuel_type', 'transport_mode', 'region', 'data_confidence']\n"
     ]
    }
   ],
   "source": [
    "# Step 3: Split into features and targets\n",
    "target_cols = ['co2', 'energy', 'water', 'is_circular']\n",
    "X = df.drop(columns=target_cols)\n",
    "y_co2 = df['co2']\n",
    "y_energy = df['energy']\n",
    "y_water = df['water']\n",
    "y_circ = df['is_circular']\n",
    "\n",
    "\n",
    "numeric_cols = X.select_dtypes(include=[np.number]).columns.tolist()\n",
    "categorical_cols = X.select_dtypes(exclude=[np.number]).columns.tolist()\n",
    "\n",
    "print(\"Numeric features:\", numeric_cols)\n",
    "print(\"Categorical features:\", categorical_cols)\n"
   ]
  },
  {
   "cell_type": "code",
   "execution_count": 4,
   "id": "0b51f937",
   "metadata": {},
   "outputs": [],
   "source": [
    "# Step 4: Preprocessing pipeline\n",
    "numeric_pipeline = Pipeline([\n",
    "    ('imputer', SimpleImputer(strategy='mean')),\n",
    "    ('scaler', StandardScaler())\n",
    "])\n",
    "\n",
    "categorical_pipeline = Pipeline([\n",
    "    ('imputer', SimpleImputer(strategy='most_frequent')),\n",
    "    ('encoder', OneHotEncoder(handle_unknown='ignore'))\n",
    "])\n",
    "\n",
    "preprocessor = ColumnTransformer([\n",
    "    ('num', numeric_pipeline, numeric_cols),\n",
    "    ('cat', categorical_pipeline, categorical_cols)\n",
    "])\n"
   ]
  },
  {
   "cell_type": "markdown",
   "id": "61d4c075",
   "metadata": {},
   "source": [
    "# 4. Train ML Models\n",
    "We train three regression models:\n",
    "- `reg_co2`: Predicts CO₂ emissions (t/FU)\n",
    "- `reg_energy`: Predicts energy demand (MJ/FU)\n",
    "- `reg_water`: Predicts water consumption (m³/FU)\n",
    "\n",
    "We also train a classification model `clf` to predict if a process is circular or not.\n"
   ]
  },
  {
   "cell_type": "code",
   "execution_count": 5,
   "id": "ff101a65",
   "metadata": {},
   "outputs": [
    {
     "name": "stdout",
     "output_type": "stream",
     "text": [
      "Model Performance:\n",
      "CO2 R²: 0.9996051735257988\n",
      "Energy R²: 0.9998905834401801\n",
      "Water R²: 0.9908670775776819\n",
      "\n",
      "Circularity classification report:\n",
      "               precision    recall  f1-score   support\n",
      "\n",
      "           0       1.00      1.00      1.00        79\n",
      "           1       1.00      1.00      1.00       921\n",
      "\n",
      "    accuracy                           1.00      1000\n",
      "   macro avg       1.00      1.00      1.00      1000\n",
      "weighted avg       1.00      1.00      1.00      1000\n",
      "\n",
      "Energy R²: 0.9998905834401801\n",
      "Water R²: 0.9908670775776819\n",
      "\n",
      "Circularity classification report:\n",
      "               precision    recall  f1-score   support\n",
      "\n",
      "           0       1.00      1.00      1.00        79\n",
      "           1       1.00      1.00      1.00       921\n",
      "\n",
      "    accuracy                           1.00      1000\n",
      "   macro avg       1.00      1.00      1.00      1000\n",
      "weighted avg       1.00      1.00      1.00      1000\n",
      "\n"
     ]
    }
   ],
   "source": [
    "# Step 5: Train/Test split\n",
    "X_train, X_test, y_co2_train, y_co2_test, y_energy_train, y_energy_test, y_water_train, y_water_test, y_circ_train, y_circ_test = \\\n",
    "    train_test_split(X, y_co2, y_energy, y_water, y_circ, test_size=0.2, random_state=42)\n",
    "\n",
    "\n",
    "X_train_proc = preprocessor.fit_transform(X_train)\n",
    "X_test_proc = preprocessor.transform(X_test)\n",
    "\n",
    "reg_co2 = RandomForestRegressor(n_estimators=200, random_state=42).fit(X_train_proc, y_co2_train)\n",
    "reg_energy = RandomForestRegressor(n_estimators=200, random_state=42).fit(X_train_proc, y_energy_train)\n",
    "reg_water = RandomForestRegressor(n_estimators=200, random_state=42).fit(X_train_proc, y_water_train)\n",
    "clf = RandomForestClassifier(n_estimators=200, random_state=42).fit(X_train_proc, y_circ_train)\n",
    "\n",
    "print(\"Model Performance:\")\n",
    "print(\"CO2 R²:\", r2_score(y_co2_test, reg_co2.predict(X_test_proc)))\n",
    "print(\"Energy R²:\", r2_score(y_energy_test, reg_energy.predict(X_test_proc)))\n",
    "print(\"Water R²:\", r2_score(y_water_test, reg_water.predict(X_test_proc)))\n",
    "print(\"\\nCircularity classification report:\\n\", classification_report(y_circ_test, clf.predict(X_test_proc)))\n"
   ]
  },
  {
   "cell_type": "markdown",
   "id": "8861f5b4",
   "metadata": {},
   "source": [
    "# 5. Evaluate Models\n",
    "We test the models on validation data to check:\n",
    "- Prediction accuracy\n",
    "- R² scores\n",
    "- Error margins\n",
    "This confirms whether the trained models are reliable.\n"
   ]
  },
  {
   "cell_type": "code",
   "execution_count": 6,
   "id": "7b9e747d",
   "metadata": {},
   "outputs": [
    {
     "name": "stdout",
     "output_type": "stream",
     "text": [
      "Predictions for sample process:\n",
      " {'CO2 (t/FU)': np.float64(138.66), 'Energy (MJ/FU)': np.float64(8873.4), 'Water (m³/FU)': np.float64(22.42), 'Circular?': 'Yes'}\n"
     ]
    }
   ],
   "source": [
    "# Step 6: Prediction for one process (first row in dataset)\n",
    "sample = X.iloc[0:1]\n",
    "sample_proc = preprocessor.transform(sample)\n",
    "\n",
    "pred = {\n",
    "    \"CO2 (t/FU)\": round(reg_co2.predict(sample_proc)[0], 2),\n",
    "    \"Energy (MJ/FU)\": round(reg_energy.predict(sample_proc)[0], 2),\n",
    "    \"Water (m³/FU)\": round(reg_water.predict(sample_proc)[0], 2),\n",
    "    \"Circular?\": \"Yes\" if clf.predict(sample_proc)[0] else \"No\"\n",
    "}\n",
    "\n",
    "print(\"Predictions for sample process:\\n\", pred)\n"
   ]
  },
  {
   "cell_type": "markdown",
   "id": "30e04074",
   "metadata": {},
   "source": [
    "# 6. Scenario Testing\n",
    "We apply the recommendation system to a sample process.\n",
    "The output is a table comparing:\n",
    "- Current scenario\n",
    "- Improved scenarios\n",
    "- Their predicted environmental impacts\n"
   ]
  },
  {
   "cell_type": "code",
   "execution_count": 7,
   "id": "a3ee23df",
   "metadata": {},
   "outputs": [
    {
     "name": "stdout",
     "output_type": "stream",
     "text": [
      "\n",
      "Process 1: Co-proj-1502 (Copper)\n",
      "Functional unit: 1 tonne\n",
      "Predictions: {'CO2 (t/FU)': np.float64(144.63), 'Energy (MJ/FU)': np.float64(9419.58), 'Water (m³/FU)': np.float64(22.48), 'Circular?': 'Yes'}\n",
      "Recommendations:\n",
      " - Extend product lifetime (durability, repairability).\n",
      " - Switch to rail/ship for long-distance transport.\n",
      "\n",
      "Process 2: Al-proj-2587 (Aluminium)\n",
      "Functional unit: 1 tonne\n",
      "Predictions: {'CO2 (t/FU)': np.float64(404.21), 'Energy (MJ/FU)': np.float64(28682.92), 'Water (m³/FU)': np.float64(7.42), 'Circular?': 'Yes'}\n",
      "Recommendations:\n",
      " - Shift energy mix towards renewable or low-carbon sources.\n",
      "\n",
      "Process 3: Al-proj-2654 (Aluminium)\n",
      "Functional unit: 1 tonne\n",
      "Predictions: {'CO2 (t/FU)': np.float64(535.17), 'Energy (MJ/FU)': np.float64(37707.43), 'Water (m³/FU)': np.float64(32.85), 'Circular?': 'Yes'}\n",
      "Recommendations:\n",
      " - Shift energy mix towards renewable or low-carbon sources.\n",
      " - Switch to rail/ship for long-distance transport.\n"
     ]
    }
   ],
   "source": [
    "\n",
    "# Step 8: Circularity evaluation & recommendations (Standard)\n",
    "\n",
    "def evaluate_circularity(row, pred):\n",
    "    recs = []\n",
    "    \n",
    "    if row['end_of_life_recycle_rate_pct'] < 50:\n",
    "        recs.append(\"Increase end-of-life recycling rate above 50% to improve circularity.\")\n",
    "    if row['product_lifetime_years'] < 15:\n",
    "        recs.append(\"Extend product lifetime (durability, repairability).\")\n",
    "    if row['electricity_grid_region'].lower() in [\"coal\", \"mixed\"] or row['electricity_kWh_per_FU'] > 5000:\n",
    "        recs.append(\"Shift energy mix towards renewable or low-carbon sources.\")\n",
    "    if row['transport_mode'] == \"truck\" and row['transport_distance_km'] > 500:\n",
    "        recs.append(\"Switch to rail/ship for long-distance transport.\")\n",
    "    if row['production_route'] == \"primary\" and row['recycled_content_pct'] < 30:\n",
    "        recs.append(\"Use more recycled content instead of primary raw material.\")\n",
    "    \n",
    "    if not recs:\n",
    "        recs.append(\"Already highly circular.\")\n",
    "    \n",
    "    return recs\n",
    "\n",
    "# Test on a few random processes\n",
    "samples = X.sample(3, random_state=42)\n",
    "\n",
    "for i, (_, row) in enumerate(samples.iterrows(), start=1):\n",
    "    sample_proc = preprocessor.transform(pd.DataFrame([row]))\n",
    "    pred = {\n",
    "        \"CO2 (t/FU)\": round(reg_co2.predict(sample_proc)[0], 2),\n",
    "        \"Energy (MJ/FU)\": round(reg_energy.predict(sample_proc)[0], 2),\n",
    "        \"Water (m³/FU)\": round(reg_water.predict(sample_proc)[0], 2),\n",
    "        \"Circular?\": \"Yes\" if clf.predict(sample_proc)[0] else \"No\"\n",
    "    }\n",
    "    \n",
    "    print(f\"\\nProcess {i}: {row['project_name']} ({row['metal']})\")\n",
    "    print(\"Functional unit:\", row['functional_unit'])\n",
    "    print(\"Predictions:\", pred)\n",
    "    print(\"Recommendations:\")\n",
    "    for rec in evaluate_circularity(row, pred):\n",
    "        print(\" -\", rec)\n"
   ]
  },
  {
   "cell_type": "markdown",
   "id": "de1c4080",
   "metadata": {},
   "source": [
    "# 7. Circularity Evaluation & Recommendations\n",
    "We define rules to interpret the predictions:\n",
    "- If recycling rate < 50% → recommend higher recycling\n",
    "- If lifetime < 15 years → recommend extending durability\n",
    "- If energy mix has high coal → recommend renewable sources\n",
    "- If transport is truck over long distance → recommend rail/ship\n",
    "\n",
    "The system produces human-readable improvement recommendations.\n"
   ]
  },
  {
   "cell_type": "code",
   "execution_count": 8,
   "id": "bf518819",
   "metadata": {},
   "outputs": [],
   "source": [
    "def recommend(current, preprocessor, reg_co2, reg_energy, reg_water):\n",
    "    \n",
    "    current = current.to_dict() if not isinstance(current, dict) else current\n",
    "\n",
    "\n",
    "    coal = current.get(\"energy_coal_pct\", 50)\n",
    "    hydro = current.get(\"energy_hydro_pct\", 100 - coal)\n",
    "    rec = current.get(\"recycled_content_pct\", 10)\n",
    "    eol = current.get(\"end_of_life\", \"landfill\")\n",
    "\n",
    "    rec_options = [rec, min(100, rec+20)]\n",
    "    coal_options = [coal, max(0, coal-20)]\n",
    "    eol_options = [\"landfill\", \"recycle\"]\n",
    "\n",
    "    scenarios = []\n",
    "    for r, c, e in itertools.product(rec_options, coal_options, eol_options):\n",
    "        scenario = current.copy()\n",
    "        scenario[\"recycled_content_pct\"] = r\n",
    "        scenario[\"energy_coal_pct\"] = c\n",
    "        scenario[\"energy_hydro_pct\"] = 100 - c\n",
    "        scenario[\"end_of_life\"] = e\n",
    "        scenarios.append(scenario)\n",
    "\n",
    "    df = pd.DataFrame(scenarios)\n",
    "    X_proc = preprocessor.transform(df)\n",
    "    df[\"pred_co2\"] = reg_co2.predict(X_proc)\n",
    "    df[\"pred_energy\"] = reg_energy.predict(X_proc)\n",
    "    df[\"pred_water\"] = reg_water.predict(X_proc)\n",
    "\n",
    "    return df.sort_values(by=\"pred_co2\").reset_index(drop=True)\n"
   ]
  },
  {
   "cell_type": "markdown",
   "id": "9e658f83",
   "metadata": {},
   "source": [
    "# 8. Recommendation System\n",
    "We build a scenario generator that:\n",
    "- Increases recycled content by +20%\n",
    "- Reduces coal share by -20%\n",
    "- Changes end-of-life from landfill → recycle\n",
    "\n",
    "For each scenario, the ML models predict impacts (CO₂, energy, water).\n",
    "The results are ranked by lowest CO₂ emissions to suggest improvements.\n"
   ]
  },
  {
   "cell_type": "code",
   "execution_count": 9,
   "id": "a62739f0",
   "metadata": {},
   "outputs": [
    {
     "name": "stdout",
     "output_type": "stream",
     "text": [
      "   project_name functional_unit      metal production_route  recycled_content_pct  electricity_kWh_per_FU electricity_grid_region  fuel_MJ_per_FU fuel_type transport_mode  transport_distance_km  process_yield_pct  end_of_life_recycle_rate_pct  product_lifetime_years region data_confidence         co2       energy      water  is_circular  energy_coal_pct  energy_hydro_pct end_of_life    pred_co2  pred_energy  pred_water\n",
      "0  Al-proj-0001         1 tonne  Aluminium              mix                    50                    2078                 US-Grid            1400      coal           rail                    780                 96                            23                      43  China       predicted  139.296714  8878.681202  22.071505            1               30                70     recycle  138.497203  8870.802178   22.487398\n",
      "1  Al-proj-0001         1 tonne  Aluminium              mix                    50                    2078                 US-Grid            1400      coal           rail                    780                 96                            23                      43  China       predicted  139.296714  8878.681202  22.071505            1               30                70    landfill  138.497203  8870.802178   22.487398\n",
      "2  Al-proj-0001         1 tonne  Aluminium              mix                    50                    2078                 US-Grid            1400      coal           rail                    780                 96                            23                      43  China       predicted  139.296714  8878.681202  22.071505            1               50                50     recycle  138.497203  8870.802178   22.487398\n",
      "3  Al-proj-0001         1 tonne  Aluminium              mix                    50                    2078                 US-Grid            1400      coal           rail                    780                 96                            23                      43  China       predicted  139.296714  8878.681202  22.071505            1               50                50    landfill  138.497203  8870.802178   22.487398\n",
      "4  Al-proj-0001         1 tonne  Aluminium              mix                    30                    2078                 US-Grid            1400      coal           rail                    780                 96                            23                      43  China       predicted  139.296714  8878.681202  22.071505            1               30                70     recycle  138.660324  8873.401296   22.421968\n",
      "5  Al-proj-0001         1 tonne  Aluminium              mix                    30                    2078                 US-Grid            1400      coal           rail                    780                 96                            23                      43  China       predicted  139.296714  8878.681202  22.071505            1               30                70    landfill  138.660324  8873.401296   22.421968\n",
      "6  Al-proj-0001         1 tonne  Aluminium              mix                    30                    2078                 US-Grid            1400      coal           rail                    780                 96                            23                      43  China       predicted  139.296714  8878.681202  22.071505            1               50                50     recycle  138.660324  8873.401296   22.421968\n",
      "7  Al-proj-0001         1 tonne  Aluminium              mix                    30                    2078                 US-Grid            1400      coal           rail                    780                 96                            23                      43  China       predicted  139.296714  8878.681202  22.071505            1               50                50    landfill  138.660324  8873.401296   22.421968\n"
     ]
    }
   ],
   "source": [
    "current = df.iloc[0]  \n",
    "\n",
    "recommendations = recommend(current, preprocessor, reg_co2, reg_energy, reg_water)\n",
    "\n",
    "\n",
    "\n",
    "pd.set_option(\"display.max_columns\", None)   \n",
    "pd.set_option(\"display.width\", 1000)\n",
    "print(recommendations)\n"
   ]
  },
  {
   "cell_type": "code",
   "execution_count": 10,
   "id": "38be7183",
   "metadata": {},
   "outputs": [
    {
     "name": "stdout",
     "output_type": "stream",
     "text": [
      "CO2 Prediction: 138.66 ± 0.0\n",
      "Energy Prediction: 8873.4 ± 0.0\n",
      "Water Prediction: 22.42 ± 0.0\n"
     ]
    }
   ],
   "source": [
    "import numpy as np\n",
    "from sklearn.utils import resample\n",
    "\n",
    "# Bootstrap Uncertainty Function\n",
    "def bootstrap_uncertainty(model, X_sample, n=30):\n",
    "    # Convert sparse matrix to dense if needed\n",
    "    if hasattr(X_sample, \"toarray\"):\n",
    "        X_sample = X_sample.toarray()\n",
    "    \n",
    "    preds = []\n",
    "    for _ in range(n):\n",
    "        # Resample rows with replacement\n",
    "        X_resampled = resample(X_sample, replace=True, random_state=None)\n",
    "\n",
    "        # Ensure 2D shape for sklearn\n",
    "        if X_resampled.ndim == 1:\n",
    "            X_resampled = X_resampled.reshape(1, -1)\n",
    "\n",
    "        preds.append(model.predict(X_resampled))\n",
    "    \n",
    "    preds = np.array(preds)\n",
    "    return preds.mean(axis=0), preds.std(axis=0)\n",
    "\n",
    "# Example on one sample row\n",
    "sample = X.iloc[0:1]\n",
    "sample_proc = preprocessor.transform(sample)\n",
    "\n",
    "co2_mean, co2_std = bootstrap_uncertainty(reg_co2, sample_proc)\n",
    "energy_mean, energy_std = bootstrap_uncertainty(reg_energy, sample_proc)\n",
    "water_mean, water_std = bootstrap_uncertainty(reg_water, sample_proc)\n",
    "\n",
    "print(\"CO2 Prediction:\", round(co2_mean[0], 2), \"±\", round(co2_std[0], 2))\n",
    "print(\"Energy Prediction:\", round(energy_mean[0], 2), \"±\", round(energy_std[0], 2))\n",
    "print(\"Water Prediction:\", round(water_mean[0], 2), \"±\", round(water_std[0], 2))\n"
   ]
  },
  {
   "cell_type": "code",
   "execution_count": 25,
   "id": "5671d7b7",
   "metadata": {},
   "outputs": [
    {
     "data": {
      "application/vnd.plotly.v1+json": {
       "config": {
        "plotlyServerURL": "https://plot.ly"
       },
       "data": [
        {
         "gauge": {
          "axis": {
           "range": [
            0,
            100
           ]
          },
          "bar": {
           "color": "darkblue"
          },
          "steps": [
           {
            "color": "red",
            "range": [
             0,
             40
            ]
           },
           {
            "color": "yellow",
            "range": [
             40,
             70
            ]
           },
           {
            "color": "lightgreen",
            "range": [
             70,
             100
            ]
           }
          ]
         },
         "mode": "gauge+number",
         "title": {
          "text": "Circularity Score (%)"
         },
         "type": "indicator",
         "value": 60.34044656757784
        }
       ],
       "layout": {
        "template": {
         "data": {
          "bar": [
           {
            "error_x": {
             "color": "#2a3f5f"
            },
            "error_y": {
             "color": "#2a3f5f"
            },
            "marker": {
             "line": {
              "color": "#E5ECF6",
              "width": 0.5
             },
             "pattern": {
              "fillmode": "overlay",
              "size": 10,
              "solidity": 0.2
             }
            },
            "type": "bar"
           }
          ],
          "barpolar": [
           {
            "marker": {
             "line": {
              "color": "#E5ECF6",
              "width": 0.5
             },
             "pattern": {
              "fillmode": "overlay",
              "size": 10,
              "solidity": 0.2
             }
            },
            "type": "barpolar"
           }
          ],
          "carpet": [
           {
            "aaxis": {
             "endlinecolor": "#2a3f5f",
             "gridcolor": "white",
             "linecolor": "white",
             "minorgridcolor": "white",
             "startlinecolor": "#2a3f5f"
            },
            "baxis": {
             "endlinecolor": "#2a3f5f",
             "gridcolor": "white",
             "linecolor": "white",
             "minorgridcolor": "white",
             "startlinecolor": "#2a3f5f"
            },
            "type": "carpet"
           }
          ],
          "choropleth": [
           {
            "colorbar": {
             "outlinewidth": 0,
             "ticks": ""
            },
            "type": "choropleth"
           }
          ],
          "contour": [
           {
            "colorbar": {
             "outlinewidth": 0,
             "ticks": ""
            },
            "colorscale": [
             [
              0,
              "#0d0887"
             ],
             [
              0.1111111111111111,
              "#46039f"
             ],
             [
              0.2222222222222222,
              "#7201a8"
             ],
             [
              0.3333333333333333,
              "#9c179e"
             ],
             [
              0.4444444444444444,
              "#bd3786"
             ],
             [
              0.5555555555555556,
              "#d8576b"
             ],
             [
              0.6666666666666666,
              "#ed7953"
             ],
             [
              0.7777777777777778,
              "#fb9f3a"
             ],
             [
              0.8888888888888888,
              "#fdca26"
             ],
             [
              1,
              "#f0f921"
             ]
            ],
            "type": "contour"
           }
          ],
          "contourcarpet": [
           {
            "colorbar": {
             "outlinewidth": 0,
             "ticks": ""
            },
            "type": "contourcarpet"
           }
          ],
          "heatmap": [
           {
            "colorbar": {
             "outlinewidth": 0,
             "ticks": ""
            },
            "colorscale": [
             [
              0,
              "#0d0887"
             ],
             [
              0.1111111111111111,
              "#46039f"
             ],
             [
              0.2222222222222222,
              "#7201a8"
             ],
             [
              0.3333333333333333,
              "#9c179e"
             ],
             [
              0.4444444444444444,
              "#bd3786"
             ],
             [
              0.5555555555555556,
              "#d8576b"
             ],
             [
              0.6666666666666666,
              "#ed7953"
             ],
             [
              0.7777777777777778,
              "#fb9f3a"
             ],
             [
              0.8888888888888888,
              "#fdca26"
             ],
             [
              1,
              "#f0f921"
             ]
            ],
            "type": "heatmap"
           }
          ],
          "histogram": [
           {
            "marker": {
             "pattern": {
              "fillmode": "overlay",
              "size": 10,
              "solidity": 0.2
             }
            },
            "type": "histogram"
           }
          ],
          "histogram2d": [
           {
            "colorbar": {
             "outlinewidth": 0,
             "ticks": ""
            },
            "colorscale": [
             [
              0,
              "#0d0887"
             ],
             [
              0.1111111111111111,
              "#46039f"
             ],
             [
              0.2222222222222222,
              "#7201a8"
             ],
             [
              0.3333333333333333,
              "#9c179e"
             ],
             [
              0.4444444444444444,
              "#bd3786"
             ],
             [
              0.5555555555555556,
              "#d8576b"
             ],
             [
              0.6666666666666666,
              "#ed7953"
             ],
             [
              0.7777777777777778,
              "#fb9f3a"
             ],
             [
              0.8888888888888888,
              "#fdca26"
             ],
             [
              1,
              "#f0f921"
             ]
            ],
            "type": "histogram2d"
           }
          ],
          "histogram2dcontour": [
           {
            "colorbar": {
             "outlinewidth": 0,
             "ticks": ""
            },
            "colorscale": [
             [
              0,
              "#0d0887"
             ],
             [
              0.1111111111111111,
              "#46039f"
             ],
             [
              0.2222222222222222,
              "#7201a8"
             ],
             [
              0.3333333333333333,
              "#9c179e"
             ],
             [
              0.4444444444444444,
              "#bd3786"
             ],
             [
              0.5555555555555556,
              "#d8576b"
             ],
             [
              0.6666666666666666,
              "#ed7953"
             ],
             [
              0.7777777777777778,
              "#fb9f3a"
             ],
             [
              0.8888888888888888,
              "#fdca26"
             ],
             [
              1,
              "#f0f921"
             ]
            ],
            "type": "histogram2dcontour"
           }
          ],
          "mesh3d": [
           {
            "colorbar": {
             "outlinewidth": 0,
             "ticks": ""
            },
            "type": "mesh3d"
           }
          ],
          "parcoords": [
           {
            "line": {
             "colorbar": {
              "outlinewidth": 0,
              "ticks": ""
             }
            },
            "type": "parcoords"
           }
          ],
          "pie": [
           {
            "automargin": true,
            "type": "pie"
           }
          ],
          "scatter": [
           {
            "fillpattern": {
             "fillmode": "overlay",
             "size": 10,
             "solidity": 0.2
            },
            "type": "scatter"
           }
          ],
          "scatter3d": [
           {
            "line": {
             "colorbar": {
              "outlinewidth": 0,
              "ticks": ""
             }
            },
            "marker": {
             "colorbar": {
              "outlinewidth": 0,
              "ticks": ""
             }
            },
            "type": "scatter3d"
           }
          ],
          "scattercarpet": [
           {
            "marker": {
             "colorbar": {
              "outlinewidth": 0,
              "ticks": ""
             }
            },
            "type": "scattercarpet"
           }
          ],
          "scattergeo": [
           {
            "marker": {
             "colorbar": {
              "outlinewidth": 0,
              "ticks": ""
             }
            },
            "type": "scattergeo"
           }
          ],
          "scattergl": [
           {
            "marker": {
             "colorbar": {
              "outlinewidth": 0,
              "ticks": ""
             }
            },
            "type": "scattergl"
           }
          ],
          "scattermap": [
           {
            "marker": {
             "colorbar": {
              "outlinewidth": 0,
              "ticks": ""
             }
            },
            "type": "scattermap"
           }
          ],
          "scattermapbox": [
           {
            "marker": {
             "colorbar": {
              "outlinewidth": 0,
              "ticks": ""
             }
            },
            "type": "scattermapbox"
           }
          ],
          "scatterpolar": [
           {
            "marker": {
             "colorbar": {
              "outlinewidth": 0,
              "ticks": ""
             }
            },
            "type": "scatterpolar"
           }
          ],
          "scatterpolargl": [
           {
            "marker": {
             "colorbar": {
              "outlinewidth": 0,
              "ticks": ""
             }
            },
            "type": "scatterpolargl"
           }
          ],
          "scatterternary": [
           {
            "marker": {
             "colorbar": {
              "outlinewidth": 0,
              "ticks": ""
             }
            },
            "type": "scatterternary"
           }
          ],
          "surface": [
           {
            "colorbar": {
             "outlinewidth": 0,
             "ticks": ""
            },
            "colorscale": [
             [
              0,
              "#0d0887"
             ],
             [
              0.1111111111111111,
              "#46039f"
             ],
             [
              0.2222222222222222,
              "#7201a8"
             ],
             [
              0.3333333333333333,
              "#9c179e"
             ],
             [
              0.4444444444444444,
              "#bd3786"
             ],
             [
              0.5555555555555556,
              "#d8576b"
             ],
             [
              0.6666666666666666,
              "#ed7953"
             ],
             [
              0.7777777777777778,
              "#fb9f3a"
             ],
             [
              0.8888888888888888,
              "#fdca26"
             ],
             [
              1,
              "#f0f921"
             ]
            ],
            "type": "surface"
           }
          ],
          "table": [
           {
            "cells": {
             "fill": {
              "color": "#EBF0F8"
             },
             "line": {
              "color": "white"
             }
            },
            "header": {
             "fill": {
              "color": "#C8D4E3"
             },
             "line": {
              "color": "white"
             }
            },
            "type": "table"
           }
          ]
         },
         "layout": {
          "annotationdefaults": {
           "arrowcolor": "#2a3f5f",
           "arrowhead": 0,
           "arrowwidth": 1
          },
          "autotypenumbers": "strict",
          "coloraxis": {
           "colorbar": {
            "outlinewidth": 0,
            "ticks": ""
           }
          },
          "colorscale": {
           "diverging": [
            [
             0,
             "#8e0152"
            ],
            [
             0.1,
             "#c51b7d"
            ],
            [
             0.2,
             "#de77ae"
            ],
            [
             0.3,
             "#f1b6da"
            ],
            [
             0.4,
             "#fde0ef"
            ],
            [
             0.5,
             "#f7f7f7"
            ],
            [
             0.6,
             "#e6f5d0"
            ],
            [
             0.7,
             "#b8e186"
            ],
            [
             0.8,
             "#7fbc41"
            ],
            [
             0.9,
             "#4d9221"
            ],
            [
             1,
             "#276419"
            ]
           ],
           "sequential": [
            [
             0,
             "#0d0887"
            ],
            [
             0.1111111111111111,
             "#46039f"
            ],
            [
             0.2222222222222222,
             "#7201a8"
            ],
            [
             0.3333333333333333,
             "#9c179e"
            ],
            [
             0.4444444444444444,
             "#bd3786"
            ],
            [
             0.5555555555555556,
             "#d8576b"
            ],
            [
             0.6666666666666666,
             "#ed7953"
            ],
            [
             0.7777777777777778,
             "#fb9f3a"
            ],
            [
             0.8888888888888888,
             "#fdca26"
            ],
            [
             1,
             "#f0f921"
            ]
           ],
           "sequentialminus": [
            [
             0,
             "#0d0887"
            ],
            [
             0.1111111111111111,
             "#46039f"
            ],
            [
             0.2222222222222222,
             "#7201a8"
            ],
            [
             0.3333333333333333,
             "#9c179e"
            ],
            [
             0.4444444444444444,
             "#bd3786"
            ],
            [
             0.5555555555555556,
             "#d8576b"
            ],
            [
             0.6666666666666666,
             "#ed7953"
            ],
            [
             0.7777777777777778,
             "#fb9f3a"
            ],
            [
             0.8888888888888888,
             "#fdca26"
            ],
            [
             1,
             "#f0f921"
            ]
           ]
          },
          "colorway": [
           "#636efa",
           "#EF553B",
           "#00cc96",
           "#ab63fa",
           "#FFA15A",
           "#19d3f3",
           "#FF6692",
           "#B6E880",
           "#FF97FF",
           "#FECB52"
          ],
          "font": {
           "color": "#2a3f5f"
          },
          "geo": {
           "bgcolor": "white",
           "lakecolor": "white",
           "landcolor": "#E5ECF6",
           "showlakes": true,
           "showland": true,
           "subunitcolor": "white"
          },
          "hoverlabel": {
           "align": "left"
          },
          "hovermode": "closest",
          "mapbox": {
           "style": "light"
          },
          "paper_bgcolor": "white",
          "plot_bgcolor": "#E5ECF6",
          "polar": {
           "angularaxis": {
            "gridcolor": "white",
            "linecolor": "white",
            "ticks": ""
           },
           "bgcolor": "#E5ECF6",
           "radialaxis": {
            "gridcolor": "white",
            "linecolor": "white",
            "ticks": ""
           }
          },
          "scene": {
           "xaxis": {
            "backgroundcolor": "#E5ECF6",
            "gridcolor": "white",
            "gridwidth": 2,
            "linecolor": "white",
            "showbackground": true,
            "ticks": "",
            "zerolinecolor": "white"
           },
           "yaxis": {
            "backgroundcolor": "#E5ECF6",
            "gridcolor": "white",
            "gridwidth": 2,
            "linecolor": "white",
            "showbackground": true,
            "ticks": "",
            "zerolinecolor": "white"
           },
           "zaxis": {
            "backgroundcolor": "#E5ECF6",
            "gridcolor": "white",
            "gridwidth": 2,
            "linecolor": "white",
            "showbackground": true,
            "ticks": "",
            "zerolinecolor": "white"
           }
          },
          "shapedefaults": {
           "line": {
            "color": "#2a3f5f"
           }
          },
          "ternary": {
           "aaxis": {
            "gridcolor": "white",
            "linecolor": "white",
            "ticks": ""
           },
           "baxis": {
            "gridcolor": "white",
            "linecolor": "white",
            "ticks": ""
           },
           "bgcolor": "#E5ECF6",
           "caxis": {
            "gridcolor": "white",
            "linecolor": "white",
            "ticks": ""
           }
          },
          "title": {
           "x": 0.05
          },
          "xaxis": {
           "automargin": true,
           "gridcolor": "white",
           "linecolor": "white",
           "ticks": "",
           "title": {
            "standoff": 15
           },
           "zerolinecolor": "white",
           "zerolinewidth": 2
          },
          "yaxis": {
           "automargin": true,
           "gridcolor": "white",
           "linecolor": "white",
           "ticks": "",
           "title": {
            "standoff": 15
           },
           "zerolinecolor": "white",
           "zerolinewidth": 2
          }
         }
        }
       }
      }
     },
     "metadata": {},
     "output_type": "display_data"
    },
    {
     "data": {
      "application/vnd.plotly.v1+json": {
       "config": {
        "plotlyServerURL": "https://plot.ly"
       },
       "data": [
        {
         "fill": "toself",
         "name": "Circularity Breakdown",
         "r": [
          0.42,
          0.9353178945273931,
          0.6892853867693721,
          0.5524190470821266
         ],
         "theta": [
          "Recycling",
          "CO2",
          "Energy",
          "Water"
         ],
         "type": "scatterpolar"
        }
       ],
       "layout": {
        "polar": {
         "radialaxis": {
          "range": [
           0,
           1
          ],
          "visible": true
         }
        },
        "showlegend": false,
        "template": {
         "data": {
          "bar": [
           {
            "error_x": {
             "color": "#2a3f5f"
            },
            "error_y": {
             "color": "#2a3f5f"
            },
            "marker": {
             "line": {
              "color": "#E5ECF6",
              "width": 0.5
             },
             "pattern": {
              "fillmode": "overlay",
              "size": 10,
              "solidity": 0.2
             }
            },
            "type": "bar"
           }
          ],
          "barpolar": [
           {
            "marker": {
             "line": {
              "color": "#E5ECF6",
              "width": 0.5
             },
             "pattern": {
              "fillmode": "overlay",
              "size": 10,
              "solidity": 0.2
             }
            },
            "type": "barpolar"
           }
          ],
          "carpet": [
           {
            "aaxis": {
             "endlinecolor": "#2a3f5f",
             "gridcolor": "white",
             "linecolor": "white",
             "minorgridcolor": "white",
             "startlinecolor": "#2a3f5f"
            },
            "baxis": {
             "endlinecolor": "#2a3f5f",
             "gridcolor": "white",
             "linecolor": "white",
             "minorgridcolor": "white",
             "startlinecolor": "#2a3f5f"
            },
            "type": "carpet"
           }
          ],
          "choropleth": [
           {
            "colorbar": {
             "outlinewidth": 0,
             "ticks": ""
            },
            "type": "choropleth"
           }
          ],
          "contour": [
           {
            "colorbar": {
             "outlinewidth": 0,
             "ticks": ""
            },
            "colorscale": [
             [
              0,
              "#0d0887"
             ],
             [
              0.1111111111111111,
              "#46039f"
             ],
             [
              0.2222222222222222,
              "#7201a8"
             ],
             [
              0.3333333333333333,
              "#9c179e"
             ],
             [
              0.4444444444444444,
              "#bd3786"
             ],
             [
              0.5555555555555556,
              "#d8576b"
             ],
             [
              0.6666666666666666,
              "#ed7953"
             ],
             [
              0.7777777777777778,
              "#fb9f3a"
             ],
             [
              0.8888888888888888,
              "#fdca26"
             ],
             [
              1,
              "#f0f921"
             ]
            ],
            "type": "contour"
           }
          ],
          "contourcarpet": [
           {
            "colorbar": {
             "outlinewidth": 0,
             "ticks": ""
            },
            "type": "contourcarpet"
           }
          ],
          "heatmap": [
           {
            "colorbar": {
             "outlinewidth": 0,
             "ticks": ""
            },
            "colorscale": [
             [
              0,
              "#0d0887"
             ],
             [
              0.1111111111111111,
              "#46039f"
             ],
             [
              0.2222222222222222,
              "#7201a8"
             ],
             [
              0.3333333333333333,
              "#9c179e"
             ],
             [
              0.4444444444444444,
              "#bd3786"
             ],
             [
              0.5555555555555556,
              "#d8576b"
             ],
             [
              0.6666666666666666,
              "#ed7953"
             ],
             [
              0.7777777777777778,
              "#fb9f3a"
             ],
             [
              0.8888888888888888,
              "#fdca26"
             ],
             [
              1,
              "#f0f921"
             ]
            ],
            "type": "heatmap"
           }
          ],
          "histogram": [
           {
            "marker": {
             "pattern": {
              "fillmode": "overlay",
              "size": 10,
              "solidity": 0.2
             }
            },
            "type": "histogram"
           }
          ],
          "histogram2d": [
           {
            "colorbar": {
             "outlinewidth": 0,
             "ticks": ""
            },
            "colorscale": [
             [
              0,
              "#0d0887"
             ],
             [
              0.1111111111111111,
              "#46039f"
             ],
             [
              0.2222222222222222,
              "#7201a8"
             ],
             [
              0.3333333333333333,
              "#9c179e"
             ],
             [
              0.4444444444444444,
              "#bd3786"
             ],
             [
              0.5555555555555556,
              "#d8576b"
             ],
             [
              0.6666666666666666,
              "#ed7953"
             ],
             [
              0.7777777777777778,
              "#fb9f3a"
             ],
             [
              0.8888888888888888,
              "#fdca26"
             ],
             [
              1,
              "#f0f921"
             ]
            ],
            "type": "histogram2d"
           }
          ],
          "histogram2dcontour": [
           {
            "colorbar": {
             "outlinewidth": 0,
             "ticks": ""
            },
            "colorscale": [
             [
              0,
              "#0d0887"
             ],
             [
              0.1111111111111111,
              "#46039f"
             ],
             [
              0.2222222222222222,
              "#7201a8"
             ],
             [
              0.3333333333333333,
              "#9c179e"
             ],
             [
              0.4444444444444444,
              "#bd3786"
             ],
             [
              0.5555555555555556,
              "#d8576b"
             ],
             [
              0.6666666666666666,
              "#ed7953"
             ],
             [
              0.7777777777777778,
              "#fb9f3a"
             ],
             [
              0.8888888888888888,
              "#fdca26"
             ],
             [
              1,
              "#f0f921"
             ]
            ],
            "type": "histogram2dcontour"
           }
          ],
          "mesh3d": [
           {
            "colorbar": {
             "outlinewidth": 0,
             "ticks": ""
            },
            "type": "mesh3d"
           }
          ],
          "parcoords": [
           {
            "line": {
             "colorbar": {
              "outlinewidth": 0,
              "ticks": ""
             }
            },
            "type": "parcoords"
           }
          ],
          "pie": [
           {
            "automargin": true,
            "type": "pie"
           }
          ],
          "scatter": [
           {
            "fillpattern": {
             "fillmode": "overlay",
             "size": 10,
             "solidity": 0.2
            },
            "type": "scatter"
           }
          ],
          "scatter3d": [
           {
            "line": {
             "colorbar": {
              "outlinewidth": 0,
              "ticks": ""
             }
            },
            "marker": {
             "colorbar": {
              "outlinewidth": 0,
              "ticks": ""
             }
            },
            "type": "scatter3d"
           }
          ],
          "scattercarpet": [
           {
            "marker": {
             "colorbar": {
              "outlinewidth": 0,
              "ticks": ""
             }
            },
            "type": "scattercarpet"
           }
          ],
          "scattergeo": [
           {
            "marker": {
             "colorbar": {
              "outlinewidth": 0,
              "ticks": ""
             }
            },
            "type": "scattergeo"
           }
          ],
          "scattergl": [
           {
            "marker": {
             "colorbar": {
              "outlinewidth": 0,
              "ticks": ""
             }
            },
            "type": "scattergl"
           }
          ],
          "scattermap": [
           {
            "marker": {
             "colorbar": {
              "outlinewidth": 0,
              "ticks": ""
             }
            },
            "type": "scattermap"
           }
          ],
          "scattermapbox": [
           {
            "marker": {
             "colorbar": {
              "outlinewidth": 0,
              "ticks": ""
             }
            },
            "type": "scattermapbox"
           }
          ],
          "scatterpolar": [
           {
            "marker": {
             "colorbar": {
              "outlinewidth": 0,
              "ticks": ""
             }
            },
            "type": "scatterpolar"
           }
          ],
          "scatterpolargl": [
           {
            "marker": {
             "colorbar": {
              "outlinewidth": 0,
              "ticks": ""
             }
            },
            "type": "scatterpolargl"
           }
          ],
          "scatterternary": [
           {
            "marker": {
             "colorbar": {
              "outlinewidth": 0,
              "ticks": ""
             }
            },
            "type": "scatterternary"
           }
          ],
          "surface": [
           {
            "colorbar": {
             "outlinewidth": 0,
             "ticks": ""
            },
            "colorscale": [
             [
              0,
              "#0d0887"
             ],
             [
              0.1111111111111111,
              "#46039f"
             ],
             [
              0.2222222222222222,
              "#7201a8"
             ],
             [
              0.3333333333333333,
              "#9c179e"
             ],
             [
              0.4444444444444444,
              "#bd3786"
             ],
             [
              0.5555555555555556,
              "#d8576b"
             ],
             [
              0.6666666666666666,
              "#ed7953"
             ],
             [
              0.7777777777777778,
              "#fb9f3a"
             ],
             [
              0.8888888888888888,
              "#fdca26"
             ],
             [
              1,
              "#f0f921"
             ]
            ],
            "type": "surface"
           }
          ],
          "table": [
           {
            "cells": {
             "fill": {
              "color": "#EBF0F8"
             },
             "line": {
              "color": "white"
             }
            },
            "header": {
             "fill": {
              "color": "#C8D4E3"
             },
             "line": {
              "color": "white"
             }
            },
            "type": "table"
           }
          ]
         },
         "layout": {
          "annotationdefaults": {
           "arrowcolor": "#2a3f5f",
           "arrowhead": 0,
           "arrowwidth": 1
          },
          "autotypenumbers": "strict",
          "coloraxis": {
           "colorbar": {
            "outlinewidth": 0,
            "ticks": ""
           }
          },
          "colorscale": {
           "diverging": [
            [
             0,
             "#8e0152"
            ],
            [
             0.1,
             "#c51b7d"
            ],
            [
             0.2,
             "#de77ae"
            ],
            [
             0.3,
             "#f1b6da"
            ],
            [
             0.4,
             "#fde0ef"
            ],
            [
             0.5,
             "#f7f7f7"
            ],
            [
             0.6,
             "#e6f5d0"
            ],
            [
             0.7,
             "#b8e186"
            ],
            [
             0.8,
             "#7fbc41"
            ],
            [
             0.9,
             "#4d9221"
            ],
            [
             1,
             "#276419"
            ]
           ],
           "sequential": [
            [
             0,
             "#0d0887"
            ],
            [
             0.1111111111111111,
             "#46039f"
            ],
            [
             0.2222222222222222,
             "#7201a8"
            ],
            [
             0.3333333333333333,
             "#9c179e"
            ],
            [
             0.4444444444444444,
             "#bd3786"
            ],
            [
             0.5555555555555556,
             "#d8576b"
            ],
            [
             0.6666666666666666,
             "#ed7953"
            ],
            [
             0.7777777777777778,
             "#fb9f3a"
            ],
            [
             0.8888888888888888,
             "#fdca26"
            ],
            [
             1,
             "#f0f921"
            ]
           ],
           "sequentialminus": [
            [
             0,
             "#0d0887"
            ],
            [
             0.1111111111111111,
             "#46039f"
            ],
            [
             0.2222222222222222,
             "#7201a8"
            ],
            [
             0.3333333333333333,
             "#9c179e"
            ],
            [
             0.4444444444444444,
             "#bd3786"
            ],
            [
             0.5555555555555556,
             "#d8576b"
            ],
            [
             0.6666666666666666,
             "#ed7953"
            ],
            [
             0.7777777777777778,
             "#fb9f3a"
            ],
            [
             0.8888888888888888,
             "#fdca26"
            ],
            [
             1,
             "#f0f921"
            ]
           ]
          },
          "colorway": [
           "#636efa",
           "#EF553B",
           "#00cc96",
           "#ab63fa",
           "#FFA15A",
           "#19d3f3",
           "#FF6692",
           "#B6E880",
           "#FF97FF",
           "#FECB52"
          ],
          "font": {
           "color": "#2a3f5f"
          },
          "geo": {
           "bgcolor": "white",
           "lakecolor": "white",
           "landcolor": "#E5ECF6",
           "showlakes": true,
           "showland": true,
           "subunitcolor": "white"
          },
          "hoverlabel": {
           "align": "left"
          },
          "hovermode": "closest",
          "mapbox": {
           "style": "light"
          },
          "paper_bgcolor": "white",
          "plot_bgcolor": "#E5ECF6",
          "polar": {
           "angularaxis": {
            "gridcolor": "white",
            "linecolor": "white",
            "ticks": ""
           },
           "bgcolor": "#E5ECF6",
           "radialaxis": {
            "gridcolor": "white",
            "linecolor": "white",
            "ticks": ""
           }
          },
          "scene": {
           "xaxis": {
            "backgroundcolor": "#E5ECF6",
            "gridcolor": "white",
            "gridwidth": 2,
            "linecolor": "white",
            "showbackground": true,
            "ticks": "",
            "zerolinecolor": "white"
           },
           "yaxis": {
            "backgroundcolor": "#E5ECF6",
            "gridcolor": "white",
            "gridwidth": 2,
            "linecolor": "white",
            "showbackground": true,
            "ticks": "",
            "zerolinecolor": "white"
           },
           "zaxis": {
            "backgroundcolor": "#E5ECF6",
            "gridcolor": "white",
            "gridwidth": 2,
            "linecolor": "white",
            "showbackground": true,
            "ticks": "",
            "zerolinecolor": "white"
           }
          },
          "shapedefaults": {
           "line": {
            "color": "#2a3f5f"
           }
          },
          "ternary": {
           "aaxis": {
            "gridcolor": "white",
            "linecolor": "white",
            "ticks": ""
           },
           "baxis": {
            "gridcolor": "white",
            "linecolor": "white",
            "ticks": ""
           },
           "bgcolor": "#E5ECF6",
           "caxis": {
            "gridcolor": "white",
            "linecolor": "white",
            "ticks": ""
           }
          },
          "title": {
           "x": 0.05
          },
          "xaxis": {
           "automargin": true,
           "gridcolor": "white",
           "linecolor": "white",
           "ticks": "",
           "title": {
            "standoff": 15
           },
           "zerolinecolor": "white",
           "zerolinewidth": 2
          },
          "yaxis": {
           "automargin": true,
           "gridcolor": "white",
           "linecolor": "white",
           "ticks": "",
           "title": {
            "standoff": 15
           },
           "zerolinecolor": "white",
           "zerolinewidth": 2
          }
         }
        },
        "title": {
         "text": "Circularity Breakdown Radar Chart"
        }
       }
      }
     },
     "metadata": {},
     "output_type": "display_data"
    },
    {
     "name": "stdout",
     "output_type": "stream",
     "text": [
      "\n",
      "Randomly Selected Sample:\n",
      " project_name                    Al-proj-2581\n",
      "functional_unit                      1 tonne\n",
      "metal                              Aluminium\n",
      "production_route                   secondary\n",
      "recycled_content_pct                      41\n",
      "electricity_kWh_per_FU                   712\n",
      "electricity_grid_region              US-Grid\n",
      "fuel_MJ_per_FU                           538\n",
      "fuel_type                                oil\n",
      "transport_mode                          rail\n",
      "transport_distance_km                   1918\n",
      "process_yield_pct                         98\n",
      "end_of_life_recycle_rate_pct              42\n",
      "product_lifetime_years                    21\n",
      "region                                 China\n",
      "data_confidence                    predicted\n",
      "co2                                64.682105\n",
      "energy                           3107.146132\n",
      "water                              44.758095\n",
      "is_circular                                1\n",
      "Name: 2580, dtype: object\n",
      "\n",
      "Calculated Circularity Score: 60.34%\n"
     ]
    }
   ],
   "source": [
    "import pandas as pd\n",
    "import numpy as np\n",
    "import plotly.graph_objects as go\n",
    "import random\n",
    "\n",
    "# ===============================\n",
    "# Flexible Circularity Function\n",
    "# ===============================\n",
    "def circularity_score(row, col_map):\n",
    "    score = 0\n",
    "    score += (row[col_map['recycling']] / 100) * 0.4\n",
    "    score += (1 - row[col_map['co2']] / 1000) * 0.2\n",
    "    score += (1 - row[col_map['energy']] / 10000) * 0.2\n",
    "    score += (1 - row[col_map['water']] / 100) * 0.2\n",
    "    return max(0, min(1, score)) * 100\n",
    "\n",
    "\n",
    "def show_random_example(df, col_map, save_html=False):\n",
    "    # Pick a random row\n",
    "    sample = df.sample(n=1, random_state=random.randint(1, 1000)).iloc[0]\n",
    "\n",
    "    # Calculate score\n",
    "    score = circularity_score(sample, col_map)\n",
    "\n",
    "    # -------- Gauge Chart --------\n",
    "    gauge = go.Figure(go.Indicator(\n",
    "        mode=\"gauge+number\",\n",
    "        value=score,\n",
    "        title={'text': \"Circularity Score (%)\"},\n",
    "        gauge={\n",
    "            'axis': {'range': [0, 100]},\n",
    "            'bar': {'color': \"darkblue\"},\n",
    "            'steps': [\n",
    "                {'range': [0, 40], 'color': \"red\"},\n",
    "                {'range': [40, 70], 'color': \"yellow\"},\n",
    "                {'range': [70, 100], 'color': \"lightgreen\"}\n",
    "            ]\n",
    "        }\n",
    "    ))\n",
    "\n",
    "    # -------- Radar Chart --------\n",
    "    labels = [\"Recycling\", \"CO2\", \"Energy\", \"Water\"]\n",
    "    values = [\n",
    "        sample[col_map['recycling']] / 100,\n",
    "        1 - sample[col_map['co2']] / 1000,\n",
    "        1 - sample[col_map['energy']] / 10000,\n",
    "        1 - sample[col_map['water']] / 100\n",
    "    ]\n",
    "\n",
    "    radar = go.Figure(data=go.Scatterpolar(\n",
    "        r=values,\n",
    "        theta=labels,\n",
    "        fill='toself',\n",
    "        name='Circularity Breakdown'\n",
    "    ))\n",
    "\n",
    "    radar.update_layout(\n",
    "        polar=dict(radialaxis=dict(visible=True, range=[0, 1])),\n",
    "        showlegend=False,\n",
    "        title=\"Circularity Breakdown Radar Chart\"\n",
    "    )\n",
    "\n",
    "    # -------- Show or Save --------\n",
    "    if save_html:\n",
    "        gauge.write_html(\"gauge_chart.html\")\n",
    "        radar.write_html(\"radar_chart.html\")\n",
    "        print(\"Charts saved as gauge_chart.html and radar_chart.html\")\n",
    "    else:\n",
    "        gauge.show()\n",
    "        radar.show()\n",
    "\n",
    "    # Print sample row\n",
    "    print(\"\\nRandomly Selected Sample:\\n\", sample)\n",
    "    print(f\"\\nCalculated Circularity Score: {score:.2f}%\")\n",
    "show_random_example(df, {\n",
    "    'recycling': 'end_of_life_recycle_rate_pct',\n",
    "    'co2': 'co2',\n",
    "    'energy': 'energy',         \n",
    "    'water': 'water'\n",
    "}, save_html=False)"
   ]
  },
  {
   "cell_type": "code",
   "execution_count": 12,
   "id": "a26897db",
   "metadata": {},
   "outputs": [
    {
     "name": "stdout",
     "output_type": "stream",
     "text": [
      "\n",
      "Models saved for continuous learning.\n"
     ]
    }
   ],
   "source": [
    "# Step 7: Continuous Learning (Save/Reload)\n",
    "# =========================\n",
    "joblib.dump(reg_co2, \"reg_co2.pkl\")\n",
    "joblib.dump(preprocessor, \"preprocessor.pkl\")\n",
    "print(\"\\nModels saved for continuous learning.\")"
   ]
  },
  {
   "cell_type": "code",
   "execution_count": 13,
   "id": "7dae074d",
   "metadata": {},
   "outputs": [
    {
     "name": "stdout",
     "output_type": "stream",
     "text": [
      "\n",
      ">>> CO₂ Prediction for sample <<<\n",
      "Predicted CO₂: 138.66\n"
     ]
    },
    {
     "data": {
      "image/png": "[encoded data removed]",
      "text/plain": [
       "<Figure size 800x650 with 3 Axes>"
      ]
     },
     "metadata": {},
     "output_type": "display_data"
    },
    {
     "name": "stdout",
     "output_type": "stream",
     "text": [
      "\n",
      ">>> Energy Prediction for sample <<<\n",
      "Predicted Energy: 8873.40\n"
     ]
    },
    {
     "data": {
      "image/png": "[encoded data removed]",
      "text/plain": [
       "<Figure size 800x650 with 3 Axes>"
      ]
     },
     "metadata": {},
     "output_type": "display_data"
    },
    {
     "name": "stdout",
     "output_type": "stream",
     "text": [
      "\n",
      ">>> Water Prediction for sample <<<\n",
      "Predicted Water: 22.42\n"
     ]
    },
    {
     "data": {
      "image/png": "[encoded data removed]",
      "text/plain": [
       "<Figure size 800x650 with 3 Axes>"
      ]
     },
     "metadata": {},
     "output_type": "display_data"
    }
   ],
   "source": [
    "import shap\n",
    "import matplotlib.pyplot as plt\n",
    "\n",
    "# Fast SHAP local explainability for a single user input\n",
    "models = {\n",
    "    \"CO₂\": reg_co2,\n",
    "    \"Energy\": reg_energy,\n",
    "    \"Water\": reg_water\n",
    "}\n",
    "\n",
    "# Prepare one sample (first row)\n",
    "sample = X.iloc[[0]]\n",
    "sample_proc = preprocessor.transform(sample)\n",
    "if hasattr(sample_proc, \"toarray\"):\n",
    "    sample_proc = sample_proc.toarray()\n",
    "\n",
    "feature_names = preprocessor.get_feature_names_out()\n",
    "\n",
    "for name, model in models.items():\n",
    "    print(f\"\\n>>> {name} Prediction for sample <<<\")\n",
    "    pred = model.predict(sample_proc)[0]\n",
    "    print(f\"Predicted {name}: {pred:.2f}\")\n",
    "    explainer = shap.TreeExplainer(model)\n",
    "    shap_values = explainer.shap_values(sample_proc)\n",
    "    shap.plots._waterfall.waterfall_legacy(explainer.expected_value[0], shap_values[0], feature_names=feature_names)"
   ]
  }
 ],
 "metadata": {
  "kernelspec": {
   "display_name": ".venv (3.13.7)",
   "language": "python",
   "name": "python3"
  },
  "language_info": {
   "codemirror_mode": {
    "name": "ipython",
    "version": 3
   },
   "file_extension": ".py",
   "mimetype": "text/x-python",
   "name": "python",
   "nbconvert_exporter": "python",
   "pygments_lexer": "ipython3",
   "version": "3.13.7"
  }
 },
 "nbformat": 4,
 "nbformat_minor": 5
}
